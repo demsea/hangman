{
  "nbformat": 4,
  "nbformat_minor": 0,
  "metadata": {
    "colab": {
      "provenance": [],
      "authorship_tag": "ABX9TyMeR/nxyK5cA0J069fz+EN+"
    },
    "kernelspec": {
      "name": "python3",
      "display_name": "Python 3"
    },
    "language_info": {
      "name": "python"
    }
  },
  "cells": [
    {
      "cell_type": "code",
      "source": [
        "#created the smiley library shown for each mistake\n",
        "\n",
        "hangman={0:'''\n",
        "         🥹\n",
        "         ''',\n",
        "        1:'''\n",
        "         😭\n",
        "         ''',\n",
        "        2:'''\n",
        "         😩\n",
        "         ''',\n",
        "        3:'''\n",
        "         😡\n",
        "         ''',\n",
        "        4:'''\n",
        "         🤬\n",
        "         ''',\n",
        "        5:'''\n",
        "         🥶\n",
        "         ''',\n",
        "        6:'''\n",
        "         ☠️\n",
        "         '''}"
      ],
      "metadata": {
        "id": "BVXUIHNnvtJf"
      },
      "execution_count": null,
      "outputs": []
    },
    {
      "cell_type": "code",
      "source": [
        "import random\n",
        "\n",
        "def hangman_play():\n",
        "  word_list = ['PYTHON', 'SERVER', 'LOOPS', 'DEBUG', 'ARRAY', 'LOGIC', 'SMILE', 'LAUGH', 'CHEER', 'HAPPY']\n",
        "  answer_word = random.choice(word_list)\n",
        "  hidden_word = \"_ \" * len(answer_word)\n",
        "  remaining_mistakes = 6\n",
        "  hangman_pic = 0\n",
        "\n",
        "\n",
        "  print(f'Hidden word is: {hidden_word}')\n",
        "\n",
        "  while remaining_mistakes > 0:\n",
        "    #ensure the letter input is uppercase\n",
        "    picked_letter = input('Pick a letter to guess the word: ').upper()\n",
        "\n",
        "    # Reset index_count for each guess\n",
        "    index_count = 0\n",
        "\n",
        "    for letter in answer_word:\n",
        "      if letter == picked_letter:\n",
        "        hidden_word = hidden_word[:index_count] + picked_letter + hidden_word[index_count + 1:]\n",
        "      index_count += 2\n",
        "\n",
        "    if picked_letter in answer_word:\n",
        "      print(f'\\033[32mCorrect! The word contains the letter {picked_letter}\\033[0m')\n",
        "    else:\n",
        "      remaining_mistakes -= 1\n",
        "      print(f'\\033[31mWRONG! Number of mistakes left: {remaining_mistakes}\\033[0m')\n",
        "      print(hangman[hangman_pic])\n",
        "      hangman_pic += 1\n",
        "\n",
        "    print(f'Hidden word is: {hidden_word}')\n",
        "    print('**********************************************************')\n",
        "\n",
        "    if hidden_word.count('_') == 0:\n",
        "      break\n",
        "\n",
        "  if remaining_mistakes == 0:\n",
        "\n",
        "    print('Hanged!')\n",
        "    print(hangman[6])\n",
        "    print(f'The correct word was: {answer_word}')\n",
        "\n",
        "  if hidden_word.count('_') == 0:\n",
        "    print('Congratulations!')"
      ],
      "metadata": {
        "id": "9lOacdRPtBhc"
      },
      "execution_count": null,
      "outputs": []
    },
    {
      "cell_type": "code",
      "source": [
        "hangman_play()\n",
        "\n",
        "\n"
      ],
      "metadata": {
        "colab": {
          "base_uri": "https://localhost:8080/"
        },
        "id": "P3NChKbYx8oU",
        "outputId": "5679a4ab-6fe9-4558-d36d-730d9e46a76e"
      },
      "execution_count": null,
      "outputs": [
        {
          "output_type": "stream",
          "name": "stdout",
          "text": [
            "Hidden word is: _ _ _ _ _ \n",
            "Pick a letter to guess the word: a\n",
            "\u001b[31mWRONG! Number of mistakes left: 5\u001b[0m\n",
            "\n",
            "         🥹\n",
            "         \n",
            "Hidden word is: _ _ _ _ _ \n",
            "**********************************************************\n",
            "Pick a letter to guess the word: e\n",
            "\u001b[32mCorrect! The word contains the letter E\u001b[0m\n",
            "Hidden word is: _ _ E E _ \n",
            "**********************************************************\n"
          ]
        }
      ]
    }
  ]
}